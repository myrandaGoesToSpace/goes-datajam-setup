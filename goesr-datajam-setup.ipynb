{
 "cells": [
  {
   "cell_type": "markdown",
   "metadata": {},
   "source": [
    "# GOES-R DataJam: Setup and Data Access"
   ]
  },
  {
   "cell_type": "markdown",
   "metadata": {},
   "source": [
    "## Environment Setup\n",
    "\n",
    "### GitHub\n"
   ]
  },
  {
   "cell_type": "markdown",
   "metadata": {},
   "source": [
    "### Creating a Jupyter Notebook"
   ]
  },
  {
   "cell_type": "markdown",
   "metadata": {},
   "source": [
    "### Install Packages"
   ]
  },
  {
   "cell_type": "code",
   "execution_count": null,
   "metadata": {},
   "outputs": [],
   "source": [
    "# install packages using pip"
   ]
  },
  {
   "cell_type": "code",
   "execution_count": null,
   "metadata": {},
   "outputs": [],
   "source": [
    "# import packages\n",
    "import xarray as xr\n",
    "from matplotlib import pyplot as plt\n",
    "import numpy as np\n",
    "import boto3\n",
    "import fsspec"
   ]
  },
  {
   "cell_type": "markdown",
   "metadata": {},
   "source": [
    "## Data Access"
   ]
  },
  {
   "cell_type": "code",
   "execution_count": null,
   "metadata": {},
   "outputs": [],
   "source": [
    "# set up access to S3 bucket\n",
    "s3 = boto3.client(\"s3\")\n",
    "paginator = s3.get_paginator(\"list_objects_v2\")\n",
    "page_iterator = paginator.paginate(Bucket=\"noaa-goes16\", Prefix=\"ABI-L2-CMIPC/2021/001/18/\") \n",
    "\n",
    "S3_HEADER = \"s3://noaa-goes16/\"\n",
    "files_mapper = [S3_HEADER + f[\"Key\"] for page in page_iterator for f in page[\"Contents\"]]"
   ]
  },
  {
   "cell_type": "code",
   "execution_count": null,
   "metadata": {},
   "outputs": [],
   "source": [
    "files_mapper[0]"
   ]
  },
  {
   "cell_type": "code",
   "execution_count": null,
   "metadata": {},
   "outputs": [],
   "source": [
    "files_mapper[1]"
   ]
  },
  {
   "cell_type": "code",
   "execution_count": null,
   "metadata": {},
   "outputs": [],
   "source": [
    "# open data file\n",
    "url_blue = files_mapper[1]\n",
    "ds_blue = xr.open_dataset(url_blue)\n",
    "# MAY NEED TO USE FSSPEC.OPEN()\n",
    "ds_blue"
   ]
  },
  {
   "cell_type": "markdown",
   "metadata": {},
   "source": [
    "### What is a CMI file?"
   ]
  },
  {
   "cell_type": "markdown",
   "metadata": {},
   "source": [
    "### ABI Imagery Bands"
   ]
  },
  {
   "cell_type": "markdown",
   "metadata": {},
   "source": [
    "### Plotting an Image"
   ]
  },
  {
   "cell_type": "code",
   "execution_count": null,
   "metadata": {},
   "outputs": [],
   "source": [
    "# plot a simple image with one band\n",
    "ds_blue[\"CMI\"].plot()"
   ]
  },
  {
   "cell_type": "code",
   "execution_count": null,
   "metadata": {},
   "outputs": [],
   "source": [
    "# inspect other channels\n",
    "\n",
    "# red\n",
    "url_red = get_url_for_prefix(\"ABI-L2-CMIPC/2021/001/18/OR_ABI-L2-CMIPC-M6C02\")\n",
    "ds_red = xr.open_dataset(url_red) # MAY NEED FSSPEC\n",
    "\n",
    "# vegetation (\"veggie\") AKA green\n",
    "url_veggie = get_url_for_prefix(\"ABI-L2-CMIPC/2021/001/18/OR_ABI-L2-CMIPC-M6C03\")\n",
    "ds_veggie = xr.open_dataset(url_veggie) # MAY NEED FSSPEC"
   ]
  },
  {
   "cell_type": "code",
   "execution_count": null,
   "metadata": {},
   "outputs": [],
   "source": [
    "display(ds_blue[\"CMI\"].values.shape)\n",
    "display(ds_red[\"CMI\"].values.shape)\n",
    "display(ds_veggies[\"CMI\"].values.shape)"
   ]
  },
  {
   "cell_type": "code",
   "execution_count": null,
   "metadata": {},
   "outputs": [],
   "source": [
    "# resample red \n",
    "red_vals = ds_red[\"CMI\"].values\n",
    "shape = ds_blue.values.shape\n",
    "\n",
    "sh = shape[0], red_vals.shape[0]//shape[0], shape[1], red_vals.shape[1]//shape[1]\n",
    "ds_red_reshape = red_vals.reshape(sh).mean(-1).mean(1)"
   ]
  },
  {
   "cell_type": "code",
   "execution_count": null,
   "metadata": {},
   "outputs": [],
   "source": [
    "ds_red_reshape.shape"
   ]
  },
  {
   "cell_type": "code",
   "execution_count": null,
   "metadata": {},
   "outputs": [],
   "source": [
    "# plot with all colors\n",
    "geocolor = np.stack(ds_red_reshape, ds_veggie, ds_blue, axis = 2)\n",
    "\n",
    "fig = plt.figure(figsize=(10,10), dpi = 200)\n",
    "img = plt.imshow(geocolor)\n",
    "plt.title(\"GeoColor Image\")\n",
    "plt.show()"
   ]
  },
  {
   "cell_type": "markdown",
   "metadata": {},
   "source": [
    "### Plotting an Animation"
   ]
  },
  {
   "cell_type": "code",
   "execution_count": null,
   "metadata": {},
   "outputs": [],
   "source": []
  }
 ],
 "metadata": {
  "kernelspec": {
   "display_name": "Python 3",
   "language": "python",
   "name": "python3"
  },
  "language_info": {
   "name": "python",
   "version": "3.11.3"
  },
  "orig_nbformat": 4
 },
 "nbformat": 4,
 "nbformat_minor": 2
}
